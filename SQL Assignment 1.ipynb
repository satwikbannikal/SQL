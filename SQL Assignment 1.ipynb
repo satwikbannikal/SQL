{
 "cells": [
  {
   "cell_type": "markdown",
   "id": "ddd6f89b",
   "metadata": {},
   "source": [
    "# Q-1. Write an SQL query to fetch “FIRST_NAME” from Worker table using the alias name as WORKER_NAME."
   ]
  },
  {
   "cell_type": "code",
   "execution_count": 1,
   "id": "69281e72",
   "metadata": {},
   "outputs": [
    {
     "name": "stdout",
     "output_type": "stream",
     "text": [
      "Requirement already satisfied: mysql-connector-python in c:\\users\\admin\\anaconda3\\lib\\site-packages (8.0.29)\n",
      "Requirement already satisfied: protobuf>=3.0.0 in c:\\users\\admin\\anaconda3\\lib\\site-packages (from mysql-connector-python) (4.21.2)\n"
     ]
    }
   ],
   "source": [
    "!pip install mysql-connector-python"
   ]
  },
  {
   "cell_type": "code",
   "execution_count": 2,
   "id": "5b417cfd",
   "metadata": {},
   "outputs": [],
   "source": [
    "import mysql.connector as conn"
   ]
  },
  {
   "cell_type": "code",
   "execution_count": 3,
   "id": "48b8c1b4",
   "metadata": {},
   "outputs": [],
   "source": [
    "mydb=conn.connect(host='localhost',user='root',passwd=\"Satwik@97\")"
   ]
  },
  {
   "cell_type": "code",
   "execution_count": 4,
   "id": "e2bab2a2",
   "metadata": {},
   "outputs": [
    {
     "data": {
      "text/plain": [
       "<mysql.connector.connection_cext.CMySQLConnection at 0x2254b7f3820>"
      ]
     },
     "execution_count": 4,
     "metadata": {},
     "output_type": "execute_result"
    }
   ],
   "source": [
    "mydb"
   ]
  },
  {
   "cell_type": "code",
   "execution_count": 5,
   "id": "f7561a46",
   "metadata": {},
   "outputs": [],
   "source": [
    "cursor=mydb.cursor()"
   ]
  },
  {
   "cell_type": "code",
   "execution_count": 6,
   "id": "e1ec5a7e",
   "metadata": {},
   "outputs": [],
   "source": [
    "cursor.execute(\"Show Databases\")"
   ]
  },
  {
   "cell_type": "code",
   "execution_count": 7,
   "id": "76f227f2",
   "metadata": {},
   "outputs": [
    {
     "data": {
      "text/plain": [
       "[('information_schema',),\n",
       " ('mysql',),\n",
       " ('performance_schema',),\n",
       " ('sakila',),\n",
       " ('sys',),\n",
       " ('testsatwik',),\n",
       " ('workersdetails',),\n",
       " ('world',)]"
      ]
     },
     "execution_count": 7,
     "metadata": {},
     "output_type": "execute_result"
    }
   ],
   "source": [
    "cursor.fetchall()"
   ]
  },
  {
   "cell_type": "code",
   "execution_count": 8,
   "id": "46d40e0e",
   "metadata": {},
   "outputs": [
    {
     "ename": "DatabaseError",
     "evalue": "1007 (HY000): Can't create database 'workersdetails'; database exists",
     "output_type": "error",
     "traceback": [
      "\u001b[1;31m---------------------------------------------------------------------------\u001b[0m",
      "\u001b[1;31mMySQLInterfaceError\u001b[0m                       Traceback (most recent call last)",
      "\u001b[1;32m~\\anaconda3\\lib\\site-packages\\mysql\\connector\\connection_cext.py\u001b[0m in \u001b[0;36mcmd_query\u001b[1;34m(self, query, raw, buffered, raw_as_string)\u001b[0m\n\u001b[0;32m    534\u001b[0m                 \u001b[0mquery\u001b[0m \u001b[1;33m=\u001b[0m \u001b[0mquery\u001b[0m\u001b[1;33m.\u001b[0m\u001b[0mencode\u001b[0m\u001b[1;33m(\u001b[0m\u001b[1;34m'utf-8'\u001b[0m\u001b[1;33m)\u001b[0m\u001b[1;33m\u001b[0m\u001b[1;33m\u001b[0m\u001b[0m\n\u001b[1;32m--> 535\u001b[1;33m             self._cmysql.query(query,\n\u001b[0m\u001b[0;32m    536\u001b[0m                                \u001b[0mraw\u001b[0m\u001b[1;33m=\u001b[0m\u001b[0mraw\u001b[0m\u001b[1;33m,\u001b[0m \u001b[0mbuffered\u001b[0m\u001b[1;33m=\u001b[0m\u001b[0mbuffered\u001b[0m\u001b[1;33m,\u001b[0m\u001b[1;33m\u001b[0m\u001b[1;33m\u001b[0m\u001b[0m\n",
      "\u001b[1;31mMySQLInterfaceError\u001b[0m: Can't create database 'workersdetails'; database exists",
      "\nDuring handling of the above exception, another exception occurred:\n",
      "\u001b[1;31mDatabaseError\u001b[0m                             Traceback (most recent call last)",
      "\u001b[1;32m~\\AppData\\Local\\Temp/ipykernel_10016/3675335548.py\u001b[0m in \u001b[0;36m<module>\u001b[1;34m\u001b[0m\n\u001b[1;32m----> 1\u001b[1;33m \u001b[0mcursor\u001b[0m\u001b[1;33m.\u001b[0m\u001b[0mexecute\u001b[0m\u001b[1;33m(\u001b[0m\u001b[1;34m\"Create Database WorkersDetails\"\u001b[0m\u001b[1;33m)\u001b[0m\u001b[1;33m\u001b[0m\u001b[1;33m\u001b[0m\u001b[0m\n\u001b[0m",
      "\u001b[1;32m~\\anaconda3\\lib\\site-packages\\mysql\\connector\\cursor_cext.py\u001b[0m in \u001b[0;36mexecute\u001b[1;34m(self, operation, params, multi)\u001b[0m\n\u001b[0;32m    267\u001b[0m \u001b[1;33m\u001b[0m\u001b[0m\n\u001b[0;32m    268\u001b[0m         \u001b[1;32mtry\u001b[0m\u001b[1;33m:\u001b[0m\u001b[1;33m\u001b[0m\u001b[1;33m\u001b[0m\u001b[0m\n\u001b[1;32m--> 269\u001b[1;33m             result = self._cnx.cmd_query(stmt, raw=self._raw,\n\u001b[0m\u001b[0;32m    270\u001b[0m                                          \u001b[0mbuffered\u001b[0m\u001b[1;33m=\u001b[0m\u001b[0mself\u001b[0m\u001b[1;33m.\u001b[0m\u001b[0m_buffered\u001b[0m\u001b[1;33m,\u001b[0m\u001b[1;33m\u001b[0m\u001b[1;33m\u001b[0m\u001b[0m\n\u001b[0;32m    271\u001b[0m                                          raw_as_string=self._raw_as_string)\n",
      "\u001b[1;32m~\\anaconda3\\lib\\site-packages\\mysql\\connector\\connection_cext.py\u001b[0m in \u001b[0;36mcmd_query\u001b[1;34m(self, query, raw, buffered, raw_as_string)\u001b[0m\n\u001b[0;32m    538\u001b[0m                                query_attrs=self._query_attrs)\n\u001b[0;32m    539\u001b[0m         \u001b[1;32mexcept\u001b[0m \u001b[0mMySQLInterfaceError\u001b[0m \u001b[1;32mas\u001b[0m \u001b[0mexc\u001b[0m\u001b[1;33m:\u001b[0m\u001b[1;33m\u001b[0m\u001b[1;33m\u001b[0m\u001b[0m\n\u001b[1;32m--> 540\u001b[1;33m             raise errors.get_mysql_exception(exc.errno, msg=exc.msg,\n\u001b[0m\u001b[0;32m    541\u001b[0m                                              sqlstate=exc.sqlstate)\n\u001b[0;32m    542\u001b[0m         \u001b[1;32mexcept\u001b[0m \u001b[0mAttributeError\u001b[0m\u001b[1;33m:\u001b[0m\u001b[1;33m\u001b[0m\u001b[1;33m\u001b[0m\u001b[0m\n",
      "\u001b[1;31mDatabaseError\u001b[0m: 1007 (HY000): Can't create database 'workersdetails'; database exists"
     ]
    }
   ],
   "source": [
    "cursor.execute(\"Create Database WorkersDetails\")"
   ]
  },
  {
   "cell_type": "code",
   "execution_count": 9,
   "id": "0443557d",
   "metadata": {},
   "outputs": [
    {
     "data": {
      "text/plain": [
       "[('information_schema',),\n",
       " ('mysql',),\n",
       " ('performance_schema',),\n",
       " ('sakila',),\n",
       " ('sys',),\n",
       " ('testsatwik',),\n",
       " ('workersdetails',),\n",
       " ('world',)]"
      ]
     },
     "execution_count": 9,
     "metadata": {},
     "output_type": "execute_result"
    }
   ],
   "source": [
    "cursor.execute(\"Show Databases\")\n",
    "cursor.fetchall()"
   ]
  },
  {
   "cell_type": "code",
   "execution_count": 10,
   "id": "07d0882a",
   "metadata": {},
   "outputs": [
    {
     "ename": "ProgrammingError",
     "evalue": "1050 (42S01): Table 'workers_details' already exists",
     "output_type": "error",
     "traceback": [
      "\u001b[1;31m---------------------------------------------------------------------------\u001b[0m",
      "\u001b[1;31mMySQLInterfaceError\u001b[0m                       Traceback (most recent call last)",
      "\u001b[1;32m~\\anaconda3\\lib\\site-packages\\mysql\\connector\\connection_cext.py\u001b[0m in \u001b[0;36mcmd_query\u001b[1;34m(self, query, raw, buffered, raw_as_string)\u001b[0m\n\u001b[0;32m    534\u001b[0m                 \u001b[0mquery\u001b[0m \u001b[1;33m=\u001b[0m \u001b[0mquery\u001b[0m\u001b[1;33m.\u001b[0m\u001b[0mencode\u001b[0m\u001b[1;33m(\u001b[0m\u001b[1;34m'utf-8'\u001b[0m\u001b[1;33m)\u001b[0m\u001b[1;33m\u001b[0m\u001b[1;33m\u001b[0m\u001b[0m\n\u001b[1;32m--> 535\u001b[1;33m             self._cmysql.query(query,\n\u001b[0m\u001b[0;32m    536\u001b[0m                                \u001b[0mraw\u001b[0m\u001b[1;33m=\u001b[0m\u001b[0mraw\u001b[0m\u001b[1;33m,\u001b[0m \u001b[0mbuffered\u001b[0m\u001b[1;33m=\u001b[0m\u001b[0mbuffered\u001b[0m\u001b[1;33m,\u001b[0m\u001b[1;33m\u001b[0m\u001b[1;33m\u001b[0m\u001b[0m\n",
      "\u001b[1;31mMySQLInterfaceError\u001b[0m: Table 'workers_details' already exists",
      "\nDuring handling of the above exception, another exception occurred:\n",
      "\u001b[1;31mProgrammingError\u001b[0m                          Traceback (most recent call last)",
      "\u001b[1;32m~\\AppData\\Local\\Temp/ipykernel_10016/3979601294.py\u001b[0m in \u001b[0;36m<module>\u001b[1;34m\u001b[0m\n\u001b[1;32m----> 1\u001b[1;33m \u001b[0mcursor\u001b[0m\u001b[1;33m.\u001b[0m\u001b[0mexecute\u001b[0m\u001b[1;33m(\u001b[0m\u001b[1;34m\"create table workersdetails.workers_details(EMPID INT(10),First_Name VARCHAR(30),Last_Name VARCHAR(30),Department VARCHAR(30),SALARY INT(10))\"\u001b[0m\u001b[1;33m)\u001b[0m\u001b[1;33m\u001b[0m\u001b[1;33m\u001b[0m\u001b[0m\n\u001b[0m",
      "\u001b[1;32m~\\anaconda3\\lib\\site-packages\\mysql\\connector\\cursor_cext.py\u001b[0m in \u001b[0;36mexecute\u001b[1;34m(self, operation, params, multi)\u001b[0m\n\u001b[0;32m    267\u001b[0m \u001b[1;33m\u001b[0m\u001b[0m\n\u001b[0;32m    268\u001b[0m         \u001b[1;32mtry\u001b[0m\u001b[1;33m:\u001b[0m\u001b[1;33m\u001b[0m\u001b[1;33m\u001b[0m\u001b[0m\n\u001b[1;32m--> 269\u001b[1;33m             result = self._cnx.cmd_query(stmt, raw=self._raw,\n\u001b[0m\u001b[0;32m    270\u001b[0m                                          \u001b[0mbuffered\u001b[0m\u001b[1;33m=\u001b[0m\u001b[0mself\u001b[0m\u001b[1;33m.\u001b[0m\u001b[0m_buffered\u001b[0m\u001b[1;33m,\u001b[0m\u001b[1;33m\u001b[0m\u001b[1;33m\u001b[0m\u001b[0m\n\u001b[0;32m    271\u001b[0m                                          raw_as_string=self._raw_as_string)\n",
      "\u001b[1;32m~\\anaconda3\\lib\\site-packages\\mysql\\connector\\connection_cext.py\u001b[0m in \u001b[0;36mcmd_query\u001b[1;34m(self, query, raw, buffered, raw_as_string)\u001b[0m\n\u001b[0;32m    538\u001b[0m                                query_attrs=self._query_attrs)\n\u001b[0;32m    539\u001b[0m         \u001b[1;32mexcept\u001b[0m \u001b[0mMySQLInterfaceError\u001b[0m \u001b[1;32mas\u001b[0m \u001b[0mexc\u001b[0m\u001b[1;33m:\u001b[0m\u001b[1;33m\u001b[0m\u001b[1;33m\u001b[0m\u001b[0m\n\u001b[1;32m--> 540\u001b[1;33m             raise errors.get_mysql_exception(exc.errno, msg=exc.msg,\n\u001b[0m\u001b[0;32m    541\u001b[0m                                              sqlstate=exc.sqlstate)\n\u001b[0;32m    542\u001b[0m         \u001b[1;32mexcept\u001b[0m \u001b[0mAttributeError\u001b[0m\u001b[1;33m:\u001b[0m\u001b[1;33m\u001b[0m\u001b[1;33m\u001b[0m\u001b[0m\n",
      "\u001b[1;31mProgrammingError\u001b[0m: 1050 (42S01): Table 'workers_details' already exists"
     ]
    }
   ],
   "source": [
    "cursor.execute(\"create table workersdetails.workers_details(EMPID INT(10),First_Name VARCHAR(30),Last_Name VARCHAR(30),Department VARCHAR(30),SALARY INT(10))\")"
   ]
  },
  {
   "cell_type": "code",
   "execution_count": 11,
   "id": "9645bce2",
   "metadata": {},
   "outputs": [],
   "source": [
    "cursor.execute(\"use workersdetails\")"
   ]
  },
  {
   "cell_type": "code",
   "execution_count": 12,
   "id": "8468f093",
   "metadata": {},
   "outputs": [],
   "source": [
    "cursor.execute(\"show tables\")"
   ]
  },
  {
   "cell_type": "code",
   "execution_count": 13,
   "id": "6c6b42d8",
   "metadata": {},
   "outputs": [
    {
     "data": {
      "text/plain": [
       "[('workers_details',)]"
      ]
     },
     "execution_count": 13,
     "metadata": {},
     "output_type": "execute_result"
    }
   ],
   "source": [
    "cursor.fetchall()"
   ]
  },
  {
   "cell_type": "code",
   "execution_count": 14,
   "id": "0cd8b0a1",
   "metadata": {},
   "outputs": [],
   "source": [
    "cursor.execute('insert into workersdetails.workers_details values(111,\"Satwik\",\"Bannikal\",\"Mech\",50000)')\n",
    "cursor.execute('insert into workersdetails.workers_details values(112,\"Sanket\",\"Lagashetti\",\"cs\",50000)')\n",
    "cursor.execute('insert into workersdetails.workers_details values(113,\"Shubhang\",\"kadadevru\",\"Mech\",50000)')\n",
    "cursor.execute('insert into workersdetails.workers_details values(114,\"rohit\",\"Sureban\",\"EC\",50000)')\n",
    "cursor.execute('insert into workersdetails.workers_details values(115,\"sagar\",\"Gundali\",\"EnE\",50000)')"
   ]
  },
  {
   "cell_type": "code",
   "execution_count": 15,
   "id": "3d227e86",
   "metadata": {},
   "outputs": [],
   "source": [
    "cursor.execute(\"select *from workersdetails.workers_details\")"
   ]
  },
  {
   "cell_type": "code",
   "execution_count": 16,
   "id": "3de6e1e0",
   "metadata": {},
   "outputs": [
    {
     "data": {
      "text/plain": [
       "[(111, 'Satwik', 'Bannikal', 'Mech', 50000),\n",
       " (112, 'Sanket', 'Lagashetti', 'cs', 50000),\n",
       " (113, 'Shubhang', 'kadadevru', 'Mech', 50000),\n",
       " (114, 'rohit', 'Sureban', 'EC', 50000),\n",
       " (115, 'sagar', 'Gundali', 'EnE', 50000)]"
      ]
     },
     "execution_count": 16,
     "metadata": {},
     "output_type": "execute_result"
    }
   ],
   "source": [
    "cursor.fetchall()"
   ]
  },
  {
   "cell_type": "code",
   "execution_count": 17,
   "id": "9865c992",
   "metadata": {},
   "outputs": [],
   "source": [
    "cursor.execute(\"select First_Name from workersdetails.workers_details\")"
   ]
  },
  {
   "cell_type": "code",
   "execution_count": 18,
   "id": "cc0ec8a1",
   "metadata": {},
   "outputs": [
    {
     "data": {
      "text/plain": [
       "[('Satwik',), ('Sanket',), ('Shubhang',), ('rohit',), ('sagar',)]"
      ]
     },
     "execution_count": 18,
     "metadata": {},
     "output_type": "execute_result"
    }
   ],
   "source": [
    "cursor.fetchall()"
   ]
  },
  {
   "cell_type": "code",
   "execution_count": 19,
   "id": "536cf1fb",
   "metadata": {},
   "outputs": [
    {
     "data": {
      "text/plain": [
       "[('Mech',), ('cs',), ('Mech',), ('EC',), ('EnE',)]"
      ]
     },
     "execution_count": 19,
     "metadata": {},
     "output_type": "execute_result"
    }
   ],
   "source": [
    "cursor.execute(\"select Department from workersdetails.workers_details\")\n",
    "cursor.fetchall()"
   ]
  },
  {
   "cell_type": "code",
   "execution_count": 20,
   "id": "fcb00238",
   "metadata": {},
   "outputs": [
    {
     "data": {
      "text/plain": [
       "[(111, 'Satwik', 'Bannikal', 'Mech', 50000),\n",
       " (112, 'Sanket', 'Lagashetti', 'cs', 50000),\n",
       " (113, 'Shubhang', 'kadadevru', 'Mech', 50000),\n",
       " (114, 'rohit', 'Sureban', 'EC', 50000),\n",
       " (115, 'sagar', 'Gundali', 'EnE', 50000)]"
      ]
     },
     "execution_count": 20,
     "metadata": {},
     "output_type": "execute_result"
    }
   ],
   "source": [
    "cursor.execute(\"select *from workersdetails.workers_details\")\n",
    "cursor.fetchall()"
   ]
  },
  {
   "cell_type": "code",
   "execution_count": 21,
   "id": "6915ad13",
   "metadata": {},
   "outputs": [],
   "source": [
    "mydb.commit()"
   ]
  },
  {
   "cell_type": "code",
   "execution_count": 22,
   "id": "5bcb93a3",
   "metadata": {},
   "outputs": [],
   "source": [
    "cursor.execute('insert into workersdetails.workers_details values(111,\"Satwik\",\"Bannikal\",\"Mech\",50000)')\n",
    "cursor.execute('insert into workersdetails.workers_details values(112,\"Sanket\",\"Lagashetti\",\"cs\",50000)')\n",
    "cursor.execute('insert into workersdetails.workers_details values(113,\"Shubhang\",\"kadadevru\",\"Mech\",50000)')\n",
    "cursor.execute('insert into workersdetails.workers_details values(114,\"rohit\",\"Sureban\",\"EC\",50000)')\n",
    "cursor.execute('insert into workersdetails.workers_details values(115,\"sagar\",\"Gundali\",\"EnE\",50000)')"
   ]
  },
  {
   "cell_type": "code",
   "execution_count": 23,
   "id": "7dbbb946",
   "metadata": {},
   "outputs": [
    {
     "data": {
      "text/plain": [
       "[(111, 'Satwik', 'Bannikal', 'Mech', 50000),\n",
       " (112, 'Sanket', 'Lagashetti', 'cs', 50000),\n",
       " (113, 'Shubhang', 'kadadevru', 'Mech', 50000),\n",
       " (114, 'rohit', 'Sureban', 'EC', 50000),\n",
       " (115, 'sagar', 'Gundali', 'EnE', 50000),\n",
       " (111, 'Satwik', 'Bannikal', 'Mech', 50000),\n",
       " (112, 'Sanket', 'Lagashetti', 'cs', 50000),\n",
       " (113, 'Shubhang', 'kadadevru', 'Mech', 50000),\n",
       " (114, 'rohit', 'Sureban', 'EC', 50000),\n",
       " (115, 'sagar', 'Gundali', 'EnE', 50000)]"
      ]
     },
     "execution_count": 23,
     "metadata": {},
     "output_type": "execute_result"
    }
   ],
   "source": [
    "cursor.execute(\"select *from workersdetails.workers_details\")\n",
    "cursor.fetchall()"
   ]
  },
  {
   "cell_type": "code",
   "execution_count": 24,
   "id": "021a824d",
   "metadata": {},
   "outputs": [],
   "source": [
    "mydb.commit()"
   ]
  },
  {
   "cell_type": "code",
   "execution_count": 30,
   "id": "0717dede",
   "metadata": {},
   "outputs": [
    {
     "data": {
      "text/plain": [
       "[]"
      ]
     },
     "execution_count": 30,
     "metadata": {},
     "output_type": "execute_result"
    }
   ],
   "source": [
    "cursor.execute(\"SELECT * FROM workersdetails.workers_details WHERE EmpID <=5\")\n",
    "cursor.fetchall()"
   ]
  },
  {
   "cell_type": "code",
   "execution_count": null,
   "id": "e2161f79",
   "metadata": {},
   "outputs": [],
   "source": []
  }
 ],
 "metadata": {
  "kernelspec": {
   "display_name": "Python 3 (ipykernel)",
   "language": "python",
   "name": "python3"
  },
  "language_info": {
   "codemirror_mode": {
    "name": "ipython",
    "version": 3
   },
   "file_extension": ".py",
   "mimetype": "text/x-python",
   "name": "python",
   "nbconvert_exporter": "python",
   "pygments_lexer": "ipython3",
   "version": "3.9.7"
  }
 },
 "nbformat": 4,
 "nbformat_minor": 5
}
